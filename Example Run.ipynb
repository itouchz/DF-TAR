{
 "cells": [
  {
   "cell_type": "code",
   "execution_count": null,
   "metadata": {},
   "outputs": [],
   "source": [
    "import tensorflow as tf\n",
    "import numpy as np\n",
    "import os\n",
    "import random\n",
    "\n",
    "from evaluator import final_score\n",
    "from DF_TAR import DF_TAR\n",
    "from data_loader import data_loader\n",
    "\n",
    "from sklearn.metrics import mean_absolute_error as mae \n",
    "from sklearn.metrics import mean_squared_error as mse"
   ]
  },
  {
   "cell_type": "code",
   "execution_count": null,
   "metadata": {},
   "outputs": [],
   "source": [
    "os.environ[\"CUDA_DEVICE_ORDER\"] = \"PCI_BUS_ID\";\n",
    "os.environ[\"CUDA_VISIBLE_DEVICES\"] = \"1\""
   ]
  },
  {
   "cell_type": "code",
   "execution_count": null,
   "metadata": {},
   "outputs": [],
   "source": [
    "years = '2018' # '2016' or '2018'\n",
    "city = 'Seoul'\n",
    "n_steps, length = 12, 12"
   ]
  },
  {
   "cell_type": "code",
   "execution_count": null,
   "metadata": {},
   "outputs": [],
   "source": [
    "es = tf.keras.callbacks.EarlyStopping(patience=20, monitor='val_loss', restore_best_weights=True)\n",
    "lr = tf.keras.callbacks.ReduceLROnPlateau(patience=5, monitor='val_loss', min_lr=1e-7)"
   ]
  },
  {
   "cell_type": "code",
   "execution_count": null,
   "metadata": {
    "scrolled": true
   },
   "outputs": [],
   "source": [
    "print(city, year)\n",
    "datasets = data_loader('./datasets', city, year, length=length, n_steps=n_steps, is_scale=True)\n",
    "\n",
    "# Extract Features to their corresponding variables\n",
    "risk_train, risk_test = datasets['risk'][0], datasets['risk'][1]\n",
    "demo_train, demo_test = datasets['demo'][0], datasets['demo'][1]\n",
    "poi_train, poi_test = datasets['poi'][0], datasets['poi'][1]\n",
    "road_train, road_test = datasets['road'][0], datasets['road'][1]\n",
    "volume_train, volume_test = datasets['volume'][0], datasets['volume'][1]\n",
    "weather_train, weather_test = datasets['weather'][0], datasets['weather'][1]\n",
    "calendar_train, calendar_test = datasets['calendar'][0], datasets['calendar'][1]\n",
    "c_train, c_test = datasets['dtg'][0], datasets['dtg'][1]\n",
    "y_train, y_test = datasets['y'][0], datasets['y'][1]\n",
    "\n",
    "# Join all static environmental features \n",
    "E_static_train = np.concatenate([demo_train, poi_train, road_train], axis=-1)\n",
    "E_static_test = np.concatenate([demo_test, poi_test, road_test], axis=-1)\n",
    "\n",
    "# Join all dynamic environmental features \n",
    "E_dynamic_train = np.concatenate([volume_train, weather_train, calendar_train], axis=-1)\n",
    "E_dynamic_test = np.concatenate([volume_test, weather_test, calendar_test], axis=-1)\n",
    "\n",
    "n_districts = len(datasets['selected_areas'])\n",
    "n_features = {'risk': risk_train.shape[-1], 'E_static': E_static_train.shape[-1], 'E_dynamic': E_dynamic_train.shape[-1], 'c': c_train.shape[-1]}\n",
    "\n",
    "X_train = [risk_train, E_static_train, E_dynamic_train, c_train]\n",
    "X_test = [risk_test, E_static_test, E_dynamic_test, c_test]\n",
    "\n",
    "model = DF_TAR(n_steps, length, n_districts, n_features)\n",
    "\n",
    "model.compile(optimizer='adam', loss=['mae','mse'])\n",
    "model.fit(X_train, [y_train, y_train], epochs=200, validation_split=0.05, callbacks=[es, lr], verbose=0)\n",
    "\n",
    "y_pred = model.predict(X_test)\n",
    "y_pred = final_score(y_pred, 0.25)\n",
    "\n",
    "print(f'MAE: {mae(y_test.reshape(-1), y_pred.reshape(-1)):.4f}, RMSE: {mse(y_test.reshape(-1), y_pred.reshape(-1), squared=False):.4f}')"
   ]
  },
  {
   "cell_type": "code",
   "execution_count": null,
   "metadata": {},
   "outputs": [],
   "source": []
  }
 ],
 "metadata": {
  "kernelspec": {
   "display_name": "Python (patara)",
   "language": "python",
   "name": "patara"
  },
  "language_info": {
   "codemirror_mode": {
    "name": "ipython",
    "version": 3
   },
   "file_extension": ".py",
   "mimetype": "text/x-python",
   "name": "python",
   "nbconvert_exporter": "python",
   "pygments_lexer": "ipython3",
   "version": "3.7.6"
  }
 },
 "nbformat": 4,
 "nbformat_minor": 4
}
